{
  "nbformat": 4,
  "nbformat_minor": 0,
  "metadata": {
    "colab": {
      "name": "Assignment01_5E4.ipynb",
      "provenance": [],
      "collapsed_sections": []
    },
    "kernelspec": {
      "name": "python3",
      "display_name": "Python 3"
    },
    "language_info": {
      "name": "python"
    }
  },
  "cells": [
    {
      "cell_type": "code",
      "metadata": {
        "colab": {
          "base_uri": "https://localhost:8080/"
        },
        "id": "wDDgf9om9JRA",
        "outputId": "0315e19d-c039-407f-8920-a1862e925018"
      },
      "source": [
        "import nltk\n",
        "nltk.download('punkt')"
      ],
      "execution_count": 19,
      "outputs": [
        {
          "output_type": "stream",
          "name": "stdout",
          "text": [
            "[nltk_data] Downloading package punkt to /root/nltk_data...\n",
            "[nltk_data]   Package punkt is already up-to-date!\n"
          ]
        },
        {
          "output_type": "execute_result",
          "data": {
            "text/plain": [
              "True"
            ]
          },
          "metadata": {},
          "execution_count": 19
        }
      ]
    },
    {
      "cell_type": "code",
      "metadata": {
        "colab": {
          "base_uri": "https://localhost:8080/"
        },
        "id": "a4gAvnHy9MY6",
        "outputId": "5eb3a440-009e-461a-bffb-ea5a4992ff57"
      },
      "source": [
        "#1)Sentence tokenizing\n",
        "from nltk.tokenize import sent_tokenize\n",
        "text = '''Are  you  fascinated  by  the  amount  of  text  data  available  on  the  internet?  Are  you looking  for  ways  to  work  with  this  text  data  but  aren’t  sure  where  to  begin? Machines, after all, recognize numbers, not the letters of our language. And that can be a tricky landscape to navigate in machine learning.'''\n",
        "text1=''\n",
        "text1=sent_tokenize(text)\n",
        "for i in text1:\n",
        "    print(i)"
      ],
      "execution_count": 21,
      "outputs": [
        {
          "output_type": "stream",
          "name": "stdout",
          "text": [
            "Are  you  fascinated  by  the  amount  of  text  data  available  on  the  internet?\n",
            "Are  you looking  for  ways  to  work  with  this  text  data  but  aren’t  sure  where  to  begin?\n",
            "Machines, after all, recognize numbers, not the letters of our language.\n",
            "And that can be a tricky landscape to navigate in machine learning.\n"
          ]
        }
      ]
    },
    {
      "cell_type": "code",
      "metadata": {
        "colab": {
          "base_uri": "https://localhost:8080/"
        },
        "id": "b5VTIeql9_kN",
        "outputId": "8dcfcbce-8b92-440f-fb3e-0ad1fa647a0a"
      },
      "source": [
        "#2)word splitting\n",
        "from nltk.tokenize import word_tokenize\n",
        "text =  '''Are  you  fascinated  by  the  amount  of  text  data  available  on  the  internet?  Are  you looking  for  ways  to  work  with  this  text  data  but  aren’t  sure  where  to  begin? Machines, after all, recognize numbers, not the letters of our language. And that can be a tricky landscape to navigate in machine learning.'''\n",
        "text1=''\n",
        "text1=word_tokenize(text)\n",
        "for i in text1:\n",
        "    print(i)"
      ],
      "execution_count": 24,
      "outputs": [
        {
          "output_type": "stream",
          "name": "stdout",
          "text": [
            "Are\n",
            "you\n",
            "fascinated\n",
            "by\n",
            "the\n",
            "amount\n",
            "of\n",
            "text\n",
            "data\n",
            "available\n",
            "on\n",
            "the\n",
            "internet\n",
            "?\n",
            "Are\n",
            "you\n",
            "looking\n",
            "for\n",
            "ways\n",
            "to\n",
            "work\n",
            "with\n",
            "this\n",
            "text\n",
            "data\n",
            "but\n",
            "aren\n",
            "’\n",
            "t\n",
            "sure\n",
            "where\n",
            "to\n",
            "begin\n",
            "?\n",
            "Machines\n",
            ",\n",
            "after\n",
            "all\n",
            ",\n",
            "recognize\n",
            "numbers\n",
            ",\n",
            "not\n",
            "the\n",
            "letters\n",
            "of\n",
            "our\n",
            "language\n",
            ".\n",
            "And\n",
            "that\n",
            "can\n",
            "be\n",
            "a\n",
            "tricky\n",
            "landscape\n",
            "to\n",
            "navigate\n",
            "in\n",
            "machine\n",
            "learning\n",
            ".\n"
          ]
        }
      ]
    },
    {
      "cell_type": "code",
      "metadata": {
        "colab": {
          "base_uri": "https://localhost:8080/"
        },
        "id": "PfMwUGUe-wxU",
        "outputId": "b48584fa-e8d9-4284-c8e0-aaa0ae2f5436"
      },
      "source": [
        "#3)stem words\n",
        "from nltk.stem import PorterStemmer \n",
        "from nltk.tokenize import word_tokenize\n",
        "w=[\"cats\",\"trouble\",\"troubling\",\"troubled\",\"having\",\"Corriendo\",\"at\",\"was\"]\n",
        "x=PorterStemmer()\n",
        "for i in w:\n",
        "    print(i,x.stem(i))"
      ],
      "execution_count": 28,
      "outputs": [
        {
          "output_type": "stream",
          "name": "stdout",
          "text": [
            "cats cat\n",
            "trouble troubl\n",
            "troubling troubl\n",
            "troubled troubl\n",
            "having have\n",
            "Corriendo corriendo\n",
            "at at\n",
            "was wa\n"
          ]
        }
      ]
    },
    {
      "cell_type": "code",
      "metadata": {
        "colab": {
          "base_uri": "https://localhost:8080/"
        },
        "id": "Nz-ZqjzeA-zy",
        "outputId": "37593351-84a7-4f58-e676-ba33712cf00d"
      },
      "source": [
        "#3)lemma words\n",
        "from nltk.stem import WordNetLemmatizer\n",
        "w=[\"cats\",\"trouble\",\"troubling\",\"troubled\",\"having\",\"Corriendo\",\"at\",\"was\"]\n",
        "x= WordNetLemmatizer()\n",
        "for i in w:\n",
        "    print(i,x.lemmatize(i))"
      ],
      "execution_count": 35,
      "outputs": [
        {
          "output_type": "stream",
          "name": "stdout",
          "text": [
            "cats cat\n",
            "trouble trouble\n",
            "troubling troubling\n",
            "troubled troubled\n",
            "having having\n",
            "Corriendo Corriendo\n",
            "at at\n",
            "was wa\n"
          ]
        }
      ]
    },
    {
      "cell_type": "code",
      "metadata": {
        "colab": {
          "base_uri": "https://localhost:8080/"
        },
        "id": "8bhF6C-KJM5R",
        "outputId": "eaf05e5b-f126-4d74-f99e-f762ec1deede"
      },
      "source": [
        "import nltk\n",
        "nltk.download('stopwords')"
      ],
      "execution_count": 40,
      "outputs": [
        {
          "output_type": "stream",
          "name": "stdout",
          "text": [
            "[nltk_data] Downloading package stopwords to /root/nltk_data...\n",
            "[nltk_data]   Package stopwords is already up-to-date!\n"
          ]
        },
        {
          "output_type": "execute_result",
          "data": {
            "text/plain": [
              "True"
            ]
          },
          "metadata": {},
          "execution_count": 40
        }
      ]
    },
    {
      "cell_type": "code",
      "metadata": {
        "colab": {
          "base_uri": "https://localhost:8080/"
        },
        "id": "y5rlBNSKHJ6P",
        "outputId": "7eb313fa-4939-4585-d93f-5456b4e218f6"
      },
      "source": [
        "#4)stop words\n",
        "from nltk.corpus import stopwords\n",
        "stop_words=set(stopwords.words(\"english\"))\n",
        "text=\"\"\"\n",
        "“The NLTK library is one of the oldest and most commonly used Python libraries for Natural Language Processing. NLTK supports stop word removal, and you can find the list of stop words in the corpus module. To remove stop words from a sentence, you can divide your text into words and then remove the word if it exits in the list of stop words provided by NLTK.”\n",
        "\"\"\"\n",
        "words=word_tokenize(text)\n",
        "l=[]\n",
        "for w in words:\n",
        "    if w not in stop_words:\n",
        "        l.append(w)\n",
        "print(l)"
      ],
      "execution_count": 41,
      "outputs": [
        {
          "output_type": "stream",
          "name": "stdout",
          "text": [
            "['“', 'The', 'NLTK', 'library', 'one', 'oldest', 'commonly', 'used', 'Python', 'libraries', 'Natural', 'Language', 'Processing', '.', 'NLTK', 'supports', 'stop', 'word', 'removal', ',', 'find', 'list', 'stop', 'words', 'corpus', 'module', '.', 'To', 'remove', 'stop', 'words', 'sentence', ',', 'divide', 'text', 'words', 'remove', 'word', 'exits', 'list', 'stop', 'words', 'provided', 'NLTK', '.', '”']\n"
          ]
        }
      ]
    },
    {
      "cell_type": "code",
      "metadata": {
        "colab": {
          "base_uri": "https://localhost:8080/"
        },
        "id": "Vl70UaXgJWbn",
        "outputId": "51523aa2-be50-4dcc-b0db-38d68189f6e0"
      },
      "source": [
        "#5)printing frequency of each word\n",
        "import nltk\n",
        "from nltk.corpus import webtext\n",
        "from nltk.probability import FreqDist\n",
        "from nltk.tokenize import word_tokenize\n",
        "text=\"\"\"\n",
        "“The NLTK library is one of the oldest and most commonly used Python libraries for Natural Language Processing. NLTK supports stop word removal, and you can find the list of stop words in the corpus module. To remove stop words from a sentence, you can divide your text into words and then remove the word if it exits in the list of stop words provided by NLTK.”\n",
        "\"\"\"\n",
        " \n",
        "w= word_tokenize(text)\n",
        "d = nltk.FreqDist(w)\n",
        "fw = dict([(m, n) for m, n in d.items() if len(m) > 3])\n",
        "for i in sorted(fw):\n",
        "    print(\"%s: %s\" % (i, fw[i]))"
      ],
      "execution_count": 46,
      "outputs": [
        {
          "output_type": "stream",
          "name": "stdout",
          "text": [
            "Language: 1\n",
            "NLTK: 3\n",
            "Natural: 1\n",
            "Processing: 1\n",
            "Python: 1\n",
            "commonly: 1\n",
            "corpus: 1\n",
            "divide: 1\n",
            "exits: 1\n",
            "find: 1\n",
            "from: 1\n",
            "into: 1\n",
            "libraries: 1\n",
            "library: 1\n",
            "list: 2\n",
            "module: 1\n",
            "most: 1\n",
            "oldest: 1\n",
            "provided: 1\n",
            "removal: 1\n",
            "remove: 2\n",
            "sentence: 1\n",
            "stop: 4\n",
            "supports: 1\n",
            "text: 1\n",
            "then: 1\n",
            "used: 1\n",
            "word: 2\n",
            "words: 4\n",
            "your: 1\n"
          ]
        }
      ]
    }
  ]
}